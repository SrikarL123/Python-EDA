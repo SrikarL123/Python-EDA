{
  "cells": [
    {
      "cell_type": "markdown",
      "source": [
        "Step 1 – Importing Libraries"
      ],
      "metadata": {
        "id": "J0szA7vDOalt"
      }
    },
    {
      "cell_type": "code",
      "source": [
        "import pandas as pd\n",
        "import numpy as np\n",
        "import matplotlib.pyplot as plt\n",
        "import seaborn as sns\n",
        "\n",
        "sns.set(style='whitegrid')"
      ],
      "metadata": {
        "id": "nmTL_xXnNTPV"
      },
      "execution_count": 1,
      "outputs": []
    },
    {
      "cell_type": "markdown",
      "source": [
        "Step 2 – Load the Dataset"
      ],
      "metadata": {
        "id": "KxGtafhdOjEj"
      }
    },
    {
      "cell_type": "code",
      "source": [
        "df = pd.read_csv('Amazon Sales Report.csv')\n",
        "df.head"
      ],
      "metadata": {
        "colab": {
          "base_uri": "https://localhost:8080/",
          "height": 241
        },
        "id": "WWgjxHaWNZG-",
        "outputId": "c62fd825-5296-4be1-edf6-1afc63be2f12"
      },
      "execution_count": 3,
      "outputs": [
        {
          "output_type": "stream",
          "name": "stderr",
          "text": [
            "/tmp/ipython-input-2345252721.py:1: DtypeWarning: Columns (1,2,3,4,5,6,7,8,9,10,11,12,14,16,17,19,20,21,22) have mixed types. Specify dtype option on import or set low_memory=False.\n",
            "  df = pd.read_csv('Amazon Sales Report.csv')\n"
          ]
        },
        {
          "output_type": "execute_result",
          "data": {
            "text/plain": [
              "<bound method NDFrame.head of         index             Order ID       Date                        Status  \\\n",
              "0         0.0  405-8078784-5731545  4/30/2022                     Cancelled   \n",
              "1         1.0  171-9198151-1101146  4/30/2022  Shipped - Delivered to Buyer   \n",
              "2         2.0  404-0687676-7273146  4/30/2022                       Shipped   \n",
              "3         3.0  403-9615377-8133951  4/30/2022                     Cancelled   \n",
              "4         4.0  407-1069790-7240320  4/30/2022                       Shipped   \n",
              "...       ...                  ...        ...                           ...   \n",
              "128970    NaN                  NaN        NaN                           NaN   \n",
              "128971    NaN                  NaN        NaN                           NaN   \n",
              "128972    NaN                  NaN        NaN                           NaN   \n",
              "128973    NaN                  NaN        NaN                           NaN   \n",
              "128974    NaN                  NaN        NaN                           NaN   \n",
              "\n",
              "       Fulfilment Sales Channel  ship-service-level    Style              SKU  \\\n",
              "0        Merchant      Amazon.in           Standard   SET389   SET389-KR-NP-S   \n",
              "1        Merchant      Amazon.in           Standard  JNE3781  JNE3781-KR-XXXL   \n",
              "2          Amazon      Amazon.in          Expedited  JNE3371    JNE3371-KR-XL   \n",
              "3        Merchant      Amazon.in           Standard    J0341       J0341-DR-L   \n",
              "4          Amazon      Amazon.in          Expedited  JNE3671  JNE3671-TU-XXXL   \n",
              "...           ...            ...                ...      ...              ...   \n",
              "128970        NaN            NaN                NaN      NaN              NaN   \n",
              "128971        NaN            NaN                NaN      NaN              NaN   \n",
              "128972        NaN            NaN                NaN      NaN              NaN   \n",
              "128973        NaN            NaN                NaN      NaN              NaN   \n",
              "128974        NaN            NaN                NaN      NaN              NaN   \n",
              "\n",
              "             Category  ... currency  Amount    ship-city   ship-state  \\\n",
              "0                 Set  ...      INR  647.62       MUMBAI  MAHARASHTRA   \n",
              "1               kurta  ...      INR  406.00    BENGALURU    KARNATAKA   \n",
              "2               kurta  ...      INR  329.00  NAVI MUMBAI  MAHARASHTRA   \n",
              "3       Western Dress  ...      INR  753.33   PUDUCHERRY   PUDUCHERRY   \n",
              "4                 Top  ...      INR  574.00      CHENNAI   TAMIL NADU   \n",
              "...               ...  ...      ...     ...          ...          ...   \n",
              "128970            NaN  ...      NaN     NaN          NaN          NaN   \n",
              "128971            NaN  ...      NaN     NaN          NaN          NaN   \n",
              "128972            NaN  ...      NaN     NaN          NaN          NaN   \n",
              "128973            NaN  ...      NaN     NaN          NaN          NaN   \n",
              "128974            NaN  ...      NaN     NaN          NaN          NaN   \n",
              "\n",
              "       ship-postal-code  ship-country  \\\n",
              "0              400081.0            IN   \n",
              "1              560085.0            IN   \n",
              "2              410210.0            IN   \n",
              "3              605008.0            IN   \n",
              "4              600073.0            IN   \n",
              "...                 ...           ...   \n",
              "128970              NaN           NaN   \n",
              "128971              NaN           NaN   \n",
              "128972              NaN           NaN   \n",
              "128973              NaN           NaN   \n",
              "128974              NaN           NaN   \n",
              "\n",
              "                                            promotion-ids    B2B  \\\n",
              "0                                                     NaN  False   \n",
              "1       Amazon PLCC Free-Financing Universal Merchant ...  False   \n",
              "2            IN Core Free Shipping 2015/04/08 23-48-5-108   True   \n",
              "3                                                     NaN  False   \n",
              "4                                                     NaN  False   \n",
              "...                                                   ...    ...   \n",
              "128970                                                NaN    NaN   \n",
              "128971                                                NaN    NaN   \n",
              "128972                                                NaN    NaN   \n",
              "128973                                                NaN    NaN   \n",
              "128974                                                NaN    NaN   \n",
              "\n",
              "        fulfilled-by Unnamed: 22  \n",
              "0          Easy Ship         NaN  \n",
              "1          Easy Ship         NaN  \n",
              "2                NaN         NaN  \n",
              "3          Easy Ship         NaN  \n",
              "4                NaN         NaN  \n",
              "...              ...         ...  \n",
              "128970           NaN         NaN  \n",
              "128971           NaN         NaN  \n",
              "128972           NaN         NaN  \n",
              "128973           NaN         NaN  \n",
              "128974           NaN         NaN  \n",
              "\n",
              "[128975 rows x 24 columns]>"
            ],
            "text/html": [
              "<div style=\"max-width:800px; border: 1px solid var(--colab-border-color);\"><style>\n",
              "      pre.function-repr-contents {\n",
              "        overflow-x: auto;\n",
              "        padding: 8px 12px;\n",
              "        max-height: 500px;\n",
              "      }\n",
              "\n",
              "      pre.function-repr-contents.function-repr-contents-collapsed {\n",
              "        cursor: pointer;\n",
              "        max-height: 100px;\n",
              "      }\n",
              "    </style>\n",
              "    <pre style=\"white-space: initial; background:\n",
              "         var(--colab-secondary-surface-color); padding: 8px 12px;\n",
              "         border-bottom: 1px solid var(--colab-border-color);\"><b>pandas.core.generic.NDFrame.head</b><br/>def head(n: int=5) -&gt; Self</pre><pre class=\"function-repr-contents function-repr-contents-collapsed\" style=\"\"><a class=\"filepath\" style=\"display:none\" href=\"#\">/usr/local/lib/python3.12/dist-packages/pandas/core/generic.py</a>Return the first `n` rows.\n",
              "\n",
              "This function returns the first `n` rows for the object based\n",
              "on position. It is useful for quickly testing if your object\n",
              "has the right type of data in it.\n",
              "\n",
              "For negative values of `n`, this function returns all rows except\n",
              "the last `|n|` rows, equivalent to ``df[:n]``.\n",
              "\n",
              "If n is larger than the number of rows, this function returns all rows.\n",
              "\n",
              "Parameters\n",
              "----------\n",
              "n : int, default 5\n",
              "    Number of rows to select.\n",
              "\n",
              "Returns\n",
              "-------\n",
              "same type as caller\n",
              "    The first `n` rows of the caller object.\n",
              "\n",
              "See Also\n",
              "--------\n",
              "DataFrame.tail: Returns the last `n` rows.\n",
              "\n",
              "Examples\n",
              "--------\n",
              "&gt;&gt;&gt; df = pd.DataFrame({&#x27;animal&#x27;: [&#x27;alligator&#x27;, &#x27;bee&#x27;, &#x27;falcon&#x27;, &#x27;lion&#x27;,\n",
              "...                    &#x27;monkey&#x27;, &#x27;parrot&#x27;, &#x27;shark&#x27;, &#x27;whale&#x27;, &#x27;zebra&#x27;]})\n",
              "&gt;&gt;&gt; df\n",
              "      animal\n",
              "0  alligator\n",
              "1        bee\n",
              "2     falcon\n",
              "3       lion\n",
              "4     monkey\n",
              "5     parrot\n",
              "6      shark\n",
              "7      whale\n",
              "8      zebra\n",
              "\n",
              "Viewing the first 5 lines\n",
              "\n",
              "&gt;&gt;&gt; df.head()\n",
              "      animal\n",
              "0  alligator\n",
              "1        bee\n",
              "2     falcon\n",
              "3       lion\n",
              "4     monkey\n",
              "\n",
              "Viewing the first `n` lines (three in this case)\n",
              "\n",
              "&gt;&gt;&gt; df.head(3)\n",
              "      animal\n",
              "0  alligator\n",
              "1        bee\n",
              "2     falcon\n",
              "\n",
              "For negative values of `n`\n",
              "\n",
              "&gt;&gt;&gt; df.head(-3)\n",
              "      animal\n",
              "0  alligator\n",
              "1        bee\n",
              "2     falcon\n",
              "3       lion\n",
              "4     monkey\n",
              "5     parrot</pre>\n",
              "      <script>\n",
              "      if (google.colab.kernel.accessAllowed && google.colab.files && google.colab.files.view) {\n",
              "        for (const element of document.querySelectorAll('.filepath')) {\n",
              "          element.style.display = 'block'\n",
              "          element.onclick = (event) => {\n",
              "            event.preventDefault();\n",
              "            event.stopPropagation();\n",
              "            google.colab.files.view(element.textContent, 5818);\n",
              "          };\n",
              "        }\n",
              "      }\n",
              "      for (const element of document.querySelectorAll('.function-repr-contents')) {\n",
              "        element.onclick = (event) => {\n",
              "          event.preventDefault();\n",
              "          event.stopPropagation();\n",
              "          element.classList.toggle('function-repr-contents-collapsed');\n",
              "        };\n",
              "      }\n",
              "      </script>\n",
              "      </div>"
            ]
          },
          "metadata": {},
          "execution_count": 3
        }
      ]
    },
    {
      "cell_type": "markdown",
      "source": [
        "Step 3 – Understand the Dataset"
      ],
      "metadata": {
        "id": "Qp2YKmX-O02s"
      }
    },
    {
      "cell_type": "code",
      "source": [
        "df.shape          # Number of rows & columns"
      ],
      "metadata": {
        "colab": {
          "base_uri": "https://localhost:8080/"
        },
        "id": "NptL9cQ_NqT4",
        "outputId": "b11a4fa0-963b-47f1-e95b-c3234ff91eab"
      },
      "execution_count": 12,
      "outputs": [
        {
          "output_type": "execute_result",
          "data": {
            "text/plain": [
              "(128975, 24)"
            ]
          },
          "metadata": {},
          "execution_count": 12
        }
      ]
    },
    {
      "cell_type": "code",
      "source": [
        "df.info()         # Data types & null counts"
      ],
      "metadata": {
        "colab": {
          "base_uri": "https://localhost:8080/"
        },
        "id": "7mH5q1T0N8an",
        "outputId": "32925d7f-c4d6-4c32-8488-123098ef170f"
      },
      "execution_count": 10,
      "outputs": [
        {
          "output_type": "stream",
          "name": "stdout",
          "text": [
            "<class 'pandas.core.frame.DataFrame'>\n",
            "RangeIndex: 128975 entries, 0 to 128974\n",
            "Data columns (total 24 columns):\n",
            " #   Column              Non-Null Count  Dtype  \n",
            "---  ------              --------------  -----  \n",
            " 0   index               5539 non-null   float64\n",
            " 1   Order ID            5539 non-null   object \n",
            " 2   Date                5539 non-null   object \n",
            " 3   Status              5539 non-null   object \n",
            " 4   Fulfilment          5539 non-null   object \n",
            " 5   Sales Channel       5539 non-null   object \n",
            " 6   ship-service-level  5539 non-null   object \n",
            " 7   Style               5539 non-null   object \n",
            " 8   SKU                 5539 non-null   object \n",
            " 9   Category            5539 non-null   object \n",
            " 10  Size                5539 non-null   object \n",
            " 11  ASIN                5539 non-null   object \n",
            " 12  Courier Status      5218 non-null   object \n",
            " 13  Qty                 5539 non-null   float64\n",
            " 14  currency            5169 non-null   object \n",
            " 15  Amount              5169 non-null   float64\n",
            " 16  ship-city           5537 non-null   object \n",
            " 17  ship-state          5537 non-null   object \n",
            " 18  ship-postal-code    5537 non-null   float64\n",
            " 19  ship-country        5537 non-null   object \n",
            " 20  promotion-ids       3602 non-null   object \n",
            " 21  B2B                 5539 non-null   object \n",
            " 22  fulfilled-by        1781 non-null   object \n",
            " 23  Unnamed: 22         0 non-null      float64\n",
            "dtypes: float64(5), object(19)\n",
            "memory usage: 23.6+ MB\n"
          ]
        }
      ]
    },
    {
      "cell_type": "code",
      "source": [
        "df.describe()     # Summary of numeric columns"
      ],
      "metadata": {
        "colab": {
          "base_uri": "https://localhost:8080/",
          "height": 300
        },
        "id": "Kfkul9cWN98h",
        "outputId": "9d191dfb-76e2-4bb3-9970-c5b0eb14481f"
      },
      "execution_count": 9,
      "outputs": [
        {
          "output_type": "execute_result",
          "data": {
            "text/plain": [
              "             index          Qty       Amount  ship-postal-code  Unnamed: 22\n",
              "count  5539.000000  5539.000000  5169.000000       5537.000000          0.0\n",
              "mean   2769.000000     0.903051   623.699501     466106.178978          NaN\n",
              "std    1599.115902     0.415252   275.486921     191986.368567          NaN\n",
              "min       0.000000     0.000000     0.000000     110001.000000          NaN\n",
              "25%    1384.500000     1.000000   435.000000     382225.000000          NaN\n",
              "50%    2769.000000     1.000000   568.570000     500029.000000          NaN\n",
              "75%    4153.500000     1.000000   771.000000     600016.000000          NaN\n",
              "max    5538.000000    15.000000  2224.000000     989898.000000          NaN"
            ],
            "text/html": [
              "\n",
              "  <div id=\"df-aee0efee-d79c-45c6-af00-c40eb8692ecc\" class=\"colab-df-container\">\n",
              "    <div>\n",
              "<style scoped>\n",
              "    .dataframe tbody tr th:only-of-type {\n",
              "        vertical-align: middle;\n",
              "    }\n",
              "\n",
              "    .dataframe tbody tr th {\n",
              "        vertical-align: top;\n",
              "    }\n",
              "\n",
              "    .dataframe thead th {\n",
              "        text-align: right;\n",
              "    }\n",
              "</style>\n",
              "<table border=\"1\" class=\"dataframe\">\n",
              "  <thead>\n",
              "    <tr style=\"text-align: right;\">\n",
              "      <th></th>\n",
              "      <th>index</th>\n",
              "      <th>Qty</th>\n",
              "      <th>Amount</th>\n",
              "      <th>ship-postal-code</th>\n",
              "      <th>Unnamed: 22</th>\n",
              "    </tr>\n",
              "  </thead>\n",
              "  <tbody>\n",
              "    <tr>\n",
              "      <th>count</th>\n",
              "      <td>5539.000000</td>\n",
              "      <td>5539.000000</td>\n",
              "      <td>5169.000000</td>\n",
              "      <td>5537.000000</td>\n",
              "      <td>0.0</td>\n",
              "    </tr>\n",
              "    <tr>\n",
              "      <th>mean</th>\n",
              "      <td>2769.000000</td>\n",
              "      <td>0.903051</td>\n",
              "      <td>623.699501</td>\n",
              "      <td>466106.178978</td>\n",
              "      <td>NaN</td>\n",
              "    </tr>\n",
              "    <tr>\n",
              "      <th>std</th>\n",
              "      <td>1599.115902</td>\n",
              "      <td>0.415252</td>\n",
              "      <td>275.486921</td>\n",
              "      <td>191986.368567</td>\n",
              "      <td>NaN</td>\n",
              "    </tr>\n",
              "    <tr>\n",
              "      <th>min</th>\n",
              "      <td>0.000000</td>\n",
              "      <td>0.000000</td>\n",
              "      <td>0.000000</td>\n",
              "      <td>110001.000000</td>\n",
              "      <td>NaN</td>\n",
              "    </tr>\n",
              "    <tr>\n",
              "      <th>25%</th>\n",
              "      <td>1384.500000</td>\n",
              "      <td>1.000000</td>\n",
              "      <td>435.000000</td>\n",
              "      <td>382225.000000</td>\n",
              "      <td>NaN</td>\n",
              "    </tr>\n",
              "    <tr>\n",
              "      <th>50%</th>\n",
              "      <td>2769.000000</td>\n",
              "      <td>1.000000</td>\n",
              "      <td>568.570000</td>\n",
              "      <td>500029.000000</td>\n",
              "      <td>NaN</td>\n",
              "    </tr>\n",
              "    <tr>\n",
              "      <th>75%</th>\n",
              "      <td>4153.500000</td>\n",
              "      <td>1.000000</td>\n",
              "      <td>771.000000</td>\n",
              "      <td>600016.000000</td>\n",
              "      <td>NaN</td>\n",
              "    </tr>\n",
              "    <tr>\n",
              "      <th>max</th>\n",
              "      <td>5538.000000</td>\n",
              "      <td>15.000000</td>\n",
              "      <td>2224.000000</td>\n",
              "      <td>989898.000000</td>\n",
              "      <td>NaN</td>\n",
              "    </tr>\n",
              "  </tbody>\n",
              "</table>\n",
              "</div>\n",
              "    <div class=\"colab-df-buttons\">\n",
              "\n",
              "  <div class=\"colab-df-container\">\n",
              "    <button class=\"colab-df-convert\" onclick=\"convertToInteractive('df-aee0efee-d79c-45c6-af00-c40eb8692ecc')\"\n",
              "            title=\"Convert this dataframe to an interactive table.\"\n",
              "            style=\"display:none;\">\n",
              "\n",
              "  <svg xmlns=\"http://www.w3.org/2000/svg\" height=\"24px\" viewBox=\"0 -960 960 960\">\n",
              "    <path d=\"M120-120v-720h720v720H120Zm60-500h600v-160H180v160Zm220 220h160v-160H400v160Zm0 220h160v-160H400v160ZM180-400h160v-160H180v160Zm440 0h160v-160H620v160ZM180-180h160v-160H180v160Zm440 0h160v-160H620v160Z\"/>\n",
              "  </svg>\n",
              "    </button>\n",
              "\n",
              "  <style>\n",
              "    .colab-df-container {\n",
              "      display:flex;\n",
              "      gap: 12px;\n",
              "    }\n",
              "\n",
              "    .colab-df-convert {\n",
              "      background-color: #E8F0FE;\n",
              "      border: none;\n",
              "      border-radius: 50%;\n",
              "      cursor: pointer;\n",
              "      display: none;\n",
              "      fill: #1967D2;\n",
              "      height: 32px;\n",
              "      padding: 0 0 0 0;\n",
              "      width: 32px;\n",
              "    }\n",
              "\n",
              "    .colab-df-convert:hover {\n",
              "      background-color: #E2EBFA;\n",
              "      box-shadow: 0px 1px 2px rgba(60, 64, 67, 0.3), 0px 1px 3px 1px rgba(60, 64, 67, 0.15);\n",
              "      fill: #174EA6;\n",
              "    }\n",
              "\n",
              "    .colab-df-buttons div {\n",
              "      margin-bottom: 4px;\n",
              "    }\n",
              "\n",
              "    [theme=dark] .colab-df-convert {\n",
              "      background-color: #3B4455;\n",
              "      fill: #D2E3FC;\n",
              "    }\n",
              "\n",
              "    [theme=dark] .colab-df-convert:hover {\n",
              "      background-color: #434B5C;\n",
              "      box-shadow: 0px 1px 3px 1px rgba(0, 0, 0, 0.15);\n",
              "      filter: drop-shadow(0px 1px 2px rgba(0, 0, 0, 0.3));\n",
              "      fill: #FFFFFF;\n",
              "    }\n",
              "  </style>\n",
              "\n",
              "    <script>\n",
              "      const buttonEl =\n",
              "        document.querySelector('#df-aee0efee-d79c-45c6-af00-c40eb8692ecc button.colab-df-convert');\n",
              "      buttonEl.style.display =\n",
              "        google.colab.kernel.accessAllowed ? 'block' : 'none';\n",
              "\n",
              "      async function convertToInteractive(key) {\n",
              "        const element = document.querySelector('#df-aee0efee-d79c-45c6-af00-c40eb8692ecc');\n",
              "        const dataTable =\n",
              "          await google.colab.kernel.invokeFunction('convertToInteractive',\n",
              "                                                    [key], {});\n",
              "        if (!dataTable) return;\n",
              "\n",
              "        const docLinkHtml = 'Like what you see? Visit the ' +\n",
              "          '<a target=\"_blank\" href=https://colab.research.google.com/notebooks/data_table.ipynb>data table notebook</a>'\n",
              "          + ' to learn more about interactive tables.';\n",
              "        element.innerHTML = '';\n",
              "        dataTable['output_type'] = 'display_data';\n",
              "        await google.colab.output.renderOutput(dataTable, element);\n",
              "        const docLink = document.createElement('div');\n",
              "        docLink.innerHTML = docLinkHtml;\n",
              "        element.appendChild(docLink);\n",
              "      }\n",
              "    </script>\n",
              "  </div>\n",
              "\n",
              "\n",
              "    <div id=\"df-99e3bfbb-b6c6-4d7f-8f22-2227ee74e9f8\">\n",
              "      <button class=\"colab-df-quickchart\" onclick=\"quickchart('df-99e3bfbb-b6c6-4d7f-8f22-2227ee74e9f8')\"\n",
              "                title=\"Suggest charts\"\n",
              "                style=\"display:none;\">\n",
              "\n",
              "<svg xmlns=\"http://www.w3.org/2000/svg\" height=\"24px\"viewBox=\"0 0 24 24\"\n",
              "     width=\"24px\">\n",
              "    <g>\n",
              "        <path d=\"M19 3H5c-1.1 0-2 .9-2 2v14c0 1.1.9 2 2 2h14c1.1 0 2-.9 2-2V5c0-1.1-.9-2-2-2zM9 17H7v-7h2v7zm4 0h-2V7h2v10zm4 0h-2v-4h2v4z\"/>\n",
              "    </g>\n",
              "</svg>\n",
              "      </button>\n",
              "\n",
              "<style>\n",
              "  .colab-df-quickchart {\n",
              "      --bg-color: #E8F0FE;\n",
              "      --fill-color: #1967D2;\n",
              "      --hover-bg-color: #E2EBFA;\n",
              "      --hover-fill-color: #174EA6;\n",
              "      --disabled-fill-color: #AAA;\n",
              "      --disabled-bg-color: #DDD;\n",
              "  }\n",
              "\n",
              "  [theme=dark] .colab-df-quickchart {\n",
              "      --bg-color: #3B4455;\n",
              "      --fill-color: #D2E3FC;\n",
              "      --hover-bg-color: #434B5C;\n",
              "      --hover-fill-color: #FFFFFF;\n",
              "      --disabled-bg-color: #3B4455;\n",
              "      --disabled-fill-color: #666;\n",
              "  }\n",
              "\n",
              "  .colab-df-quickchart {\n",
              "    background-color: var(--bg-color);\n",
              "    border: none;\n",
              "    border-radius: 50%;\n",
              "    cursor: pointer;\n",
              "    display: none;\n",
              "    fill: var(--fill-color);\n",
              "    height: 32px;\n",
              "    padding: 0;\n",
              "    width: 32px;\n",
              "  }\n",
              "\n",
              "  .colab-df-quickchart:hover {\n",
              "    background-color: var(--hover-bg-color);\n",
              "    box-shadow: 0 1px 2px rgba(60, 64, 67, 0.3), 0 1px 3px 1px rgba(60, 64, 67, 0.15);\n",
              "    fill: var(--button-hover-fill-color);\n",
              "  }\n",
              "\n",
              "  .colab-df-quickchart-complete:disabled,\n",
              "  .colab-df-quickchart-complete:disabled:hover {\n",
              "    background-color: var(--disabled-bg-color);\n",
              "    fill: var(--disabled-fill-color);\n",
              "    box-shadow: none;\n",
              "  }\n",
              "\n",
              "  .colab-df-spinner {\n",
              "    border: 2px solid var(--fill-color);\n",
              "    border-color: transparent;\n",
              "    border-bottom-color: var(--fill-color);\n",
              "    animation:\n",
              "      spin 1s steps(1) infinite;\n",
              "  }\n",
              "\n",
              "  @keyframes spin {\n",
              "    0% {\n",
              "      border-color: transparent;\n",
              "      border-bottom-color: var(--fill-color);\n",
              "      border-left-color: var(--fill-color);\n",
              "    }\n",
              "    20% {\n",
              "      border-color: transparent;\n",
              "      border-left-color: var(--fill-color);\n",
              "      border-top-color: var(--fill-color);\n",
              "    }\n",
              "    30% {\n",
              "      border-color: transparent;\n",
              "      border-left-color: var(--fill-color);\n",
              "      border-top-color: var(--fill-color);\n",
              "      border-right-color: var(--fill-color);\n",
              "    }\n",
              "    40% {\n",
              "      border-color: transparent;\n",
              "      border-right-color: var(--fill-color);\n",
              "      border-top-color: var(--fill-color);\n",
              "    }\n",
              "    60% {\n",
              "      border-color: transparent;\n",
              "      border-right-color: var(--fill-color);\n",
              "    }\n",
              "    80% {\n",
              "      border-color: transparent;\n",
              "      border-right-color: var(--fill-color);\n",
              "      border-bottom-color: var(--fill-color);\n",
              "    }\n",
              "    90% {\n",
              "      border-color: transparent;\n",
              "      border-bottom-color: var(--fill-color);\n",
              "    }\n",
              "  }\n",
              "</style>\n",
              "\n",
              "      <script>\n",
              "        async function quickchart(key) {\n",
              "          const quickchartButtonEl =\n",
              "            document.querySelector('#' + key + ' button');\n",
              "          quickchartButtonEl.disabled = true;  // To prevent multiple clicks.\n",
              "          quickchartButtonEl.classList.add('colab-df-spinner');\n",
              "          try {\n",
              "            const charts = await google.colab.kernel.invokeFunction(\n",
              "                'suggestCharts', [key], {});\n",
              "          } catch (error) {\n",
              "            console.error('Error during call to suggestCharts:', error);\n",
              "          }\n",
              "          quickchartButtonEl.classList.remove('colab-df-spinner');\n",
              "          quickchartButtonEl.classList.add('colab-df-quickchart-complete');\n",
              "        }\n",
              "        (() => {\n",
              "          let quickchartButtonEl =\n",
              "            document.querySelector('#df-99e3bfbb-b6c6-4d7f-8f22-2227ee74e9f8 button');\n",
              "          quickchartButtonEl.style.display =\n",
              "            google.colab.kernel.accessAllowed ? 'block' : 'none';\n",
              "        })();\n",
              "      </script>\n",
              "    </div>\n",
              "\n",
              "    </div>\n",
              "  </div>\n"
            ],
            "application/vnd.google.colaboratory.intrinsic+json": {
              "type": "dataframe",
              "summary": "{\n  \"name\": \"df\",\n  \"rows\": 8,\n  \"fields\": [\n    {\n      \"column\": \"index\",\n      \"properties\": {\n        \"dtype\": \"number\",\n        \"std\": 1996.0634452213117,\n        \"min\": 0.0,\n        \"max\": 5539.0,\n        \"num_unique_values\": 7,\n        \"samples\": [\n          5539.0,\n          2769.0,\n          4153.5\n        ],\n        \"semantic_type\": \"\",\n        \"description\": \"\"\n      }\n    },\n    {\n      \"column\": \"Qty\",\n      \"properties\": {\n        \"dtype\": \"number\",\n        \"std\": 1957.3629196234058,\n        \"min\": 0.0,\n        \"max\": 5539.0,\n        \"num_unique_values\": 6,\n        \"samples\": [\n          5539.0,\n          0.9030510922549196,\n          15.0\n        ],\n        \"semantic_type\": \"\",\n        \"description\": \"\"\n      }\n    },\n    {\n      \"column\": \"Amount\",\n      \"properties\": {\n        \"dtype\": \"number\",\n        \"std\": 1714.189556469498,\n        \"min\": 0.0,\n        \"max\": 5169.0,\n        \"num_unique_values\": 8,\n        \"samples\": [\n          623.6995008705745,\n          568.57,\n          5169.0\n        ],\n        \"semantic_type\": \"\",\n        \"description\": \"\"\n      }\n    },\n    {\n      \"column\": \"ship-postal-code\",\n      \"properties\": {\n        \"dtype\": \"number\",\n        \"std\": 312909.3410210027,\n        \"min\": 5537.0,\n        \"max\": 989898.0,\n        \"num_unique_values\": 8,\n        \"samples\": [\n          466106.1789777858,\n          500029.0,\n          5537.0\n        ],\n        \"semantic_type\": \"\",\n        \"description\": \"\"\n      }\n    },\n    {\n      \"column\": \"Unnamed: 22\",\n      \"properties\": {\n        \"dtype\": \"number\",\n        \"std\": null,\n        \"min\": 0.0,\n        \"max\": 0.0,\n        \"num_unique_values\": 1,\n        \"samples\": [\n          0.0\n        ],\n        \"semantic_type\": \"\",\n        \"description\": \"\"\n      }\n    }\n  ]\n}"
            }
          },
          "metadata": {},
          "execution_count": 9
        }
      ]
    },
    {
      "cell_type": "code",
      "source": [
        "df.columns        # List all columns"
      ],
      "metadata": {
        "colab": {
          "base_uri": "https://localhost:8080/"
        },
        "id": "uB6Qzz7FOAJR",
        "outputId": "e7099feb-fd7c-47ea-8ec0-dd65dac4dcb7"
      },
      "execution_count": 8,
      "outputs": [
        {
          "output_type": "execute_result",
          "data": {
            "text/plain": [
              "Index(['index', 'Order ID', 'Date', 'Status', 'Fulfilment', 'Sales Channel ',\n",
              "       'ship-service-level', 'Style', 'SKU', 'Category', 'Size', 'ASIN',\n",
              "       'Courier Status', 'Qty', 'currency', 'Amount', 'ship-city',\n",
              "       'ship-state', 'ship-postal-code', 'ship-country', 'promotion-ids',\n",
              "       'B2B', 'fulfilled-by', 'Unnamed: 22'],\n",
              "      dtype='object')"
            ]
          },
          "metadata": {},
          "execution_count": 8
        }
      ]
    },
    {
      "cell_type": "markdown",
      "source": [
        "Step 4 – Data Cleaning"
      ],
      "metadata": {
        "id": "DeWLmxAbO39i"
      }
    },
    {
      "cell_type": "code",
      "source": [
        "#Remove extra spaces or hidden characters in column names\n",
        "\n",
        "df.columns = df.columns.str.strip()"
      ],
      "metadata": {
        "id": "pqZr-SYVN_ul"
      },
      "execution_count": 13,
      "outputs": []
    },
    {
      "cell_type": "code",
      "source": [
        "df.drop(columns='unnamed:_22', inplace=True)"
      ],
      "metadata": {
        "id": "ZaxrYMvdRTbA"
      },
      "execution_count": 37,
      "outputs": []
    },
    {
      "cell_type": "code",
      "source": [
        "#Handle duplicates\n",
        "\n",
        "df.drop_duplicates(inplace=True)"
      ],
      "metadata": {
        "id": "56NLpdqCO7T-"
      },
      "execution_count": 14,
      "outputs": []
    },
    {
      "cell_type": "code",
      "source": [
        "#Check for missing values\n",
        "\n",
        "df.isnull().sum()"
      ],
      "metadata": {
        "colab": {
          "base_uri": "https://localhost:8080/",
          "height": 805
        },
        "id": "dMueK4Z9O_uL",
        "outputId": "991664a5-cc4f-49cd-8f12-a8032ac0f315"
      },
      "execution_count": 38,
      "outputs": [
        {
          "output_type": "execute_result",
          "data": {
            "text/plain": [
              "index                   0\n",
              "order_id                0\n",
              "date                    0\n",
              "status                  0\n",
              "fulfilment              0\n",
              "sales_channel           0\n",
              "ship-service-level      0\n",
              "style                   0\n",
              "sku                     0\n",
              "category                0\n",
              "size                    0\n",
              "asin                    0\n",
              "courier_status          0\n",
              "qty                     0\n",
              "currency                0\n",
              "amount                371\n",
              "ship-city               0\n",
              "ship-state              0\n",
              "ship-postal-code        0\n",
              "ship-country            0\n",
              "promotion-ids           0\n",
              "b2b                     0\n",
              "fulfilled-by            0\n",
              "dtype: int64"
            ],
            "text/html": [
              "<div>\n",
              "<style scoped>\n",
              "    .dataframe tbody tr th:only-of-type {\n",
              "        vertical-align: middle;\n",
              "    }\n",
              "\n",
              "    .dataframe tbody tr th {\n",
              "        vertical-align: top;\n",
              "    }\n",
              "\n",
              "    .dataframe thead th {\n",
              "        text-align: right;\n",
              "    }\n",
              "</style>\n",
              "<table border=\"1\" class=\"dataframe\">\n",
              "  <thead>\n",
              "    <tr style=\"text-align: right;\">\n",
              "      <th></th>\n",
              "      <th>0</th>\n",
              "    </tr>\n",
              "  </thead>\n",
              "  <tbody>\n",
              "    <tr>\n",
              "      <th>index</th>\n",
              "      <td>0</td>\n",
              "    </tr>\n",
              "    <tr>\n",
              "      <th>order_id</th>\n",
              "      <td>0</td>\n",
              "    </tr>\n",
              "    <tr>\n",
              "      <th>date</th>\n",
              "      <td>0</td>\n",
              "    </tr>\n",
              "    <tr>\n",
              "      <th>status</th>\n",
              "      <td>0</td>\n",
              "    </tr>\n",
              "    <tr>\n",
              "      <th>fulfilment</th>\n",
              "      <td>0</td>\n",
              "    </tr>\n",
              "    <tr>\n",
              "      <th>sales_channel</th>\n",
              "      <td>0</td>\n",
              "    </tr>\n",
              "    <tr>\n",
              "      <th>ship-service-level</th>\n",
              "      <td>0</td>\n",
              "    </tr>\n",
              "    <tr>\n",
              "      <th>style</th>\n",
              "      <td>0</td>\n",
              "    </tr>\n",
              "    <tr>\n",
              "      <th>sku</th>\n",
              "      <td>0</td>\n",
              "    </tr>\n",
              "    <tr>\n",
              "      <th>category</th>\n",
              "      <td>0</td>\n",
              "    </tr>\n",
              "    <tr>\n",
              "      <th>size</th>\n",
              "      <td>0</td>\n",
              "    </tr>\n",
              "    <tr>\n",
              "      <th>asin</th>\n",
              "      <td>0</td>\n",
              "    </tr>\n",
              "    <tr>\n",
              "      <th>courier_status</th>\n",
              "      <td>0</td>\n",
              "    </tr>\n",
              "    <tr>\n",
              "      <th>qty</th>\n",
              "      <td>0</td>\n",
              "    </tr>\n",
              "    <tr>\n",
              "      <th>currency</th>\n",
              "      <td>0</td>\n",
              "    </tr>\n",
              "    <tr>\n",
              "      <th>amount</th>\n",
              "      <td>371</td>\n",
              "    </tr>\n",
              "    <tr>\n",
              "      <th>ship-city</th>\n",
              "      <td>0</td>\n",
              "    </tr>\n",
              "    <tr>\n",
              "      <th>ship-state</th>\n",
              "      <td>0</td>\n",
              "    </tr>\n",
              "    <tr>\n",
              "      <th>ship-postal-code</th>\n",
              "      <td>0</td>\n",
              "    </tr>\n",
              "    <tr>\n",
              "      <th>ship-country</th>\n",
              "      <td>0</td>\n",
              "    </tr>\n",
              "    <tr>\n",
              "      <th>promotion-ids</th>\n",
              "      <td>0</td>\n",
              "    </tr>\n",
              "    <tr>\n",
              "      <th>b2b</th>\n",
              "      <td>0</td>\n",
              "    </tr>\n",
              "    <tr>\n",
              "      <th>fulfilled-by</th>\n",
              "      <td>0</td>\n",
              "    </tr>\n",
              "  </tbody>\n",
              "</table>\n",
              "</div><br><label><b>dtype:</b> int64</label>"
            ]
          },
          "metadata": {},
          "execution_count": 38
        }
      ]
    },
    {
      "cell_type": "code",
      "source": [
        "#Fill or drop missing data\n",
        "\n",
        "df.fillna('Unknown', inplace=True)   # or df.dropna() if rows are incomplete"
      ],
      "metadata": {
        "colab": {
          "base_uri": "https://localhost:8080/"
        },
        "id": "mILu7FrPPC4i",
        "outputId": "348e8fff-27c4-4f5b-a871-4bc9fffcfd46"
      },
      "execution_count": 16,
      "outputs": [
        {
          "output_type": "stream",
          "name": "stderr",
          "text": [
            "/tmp/ipython-input-1106877150.py:3: FutureWarning: Setting an item of incompatible dtype is deprecated and will raise an error in a future version of pandas. Value 'Unknown' has dtype incompatible with float64, please explicitly cast to a compatible dtype first.\n",
            "  df.fillna('Unknown', inplace=True)   # or df.dropna() if rows are incomplete\n"
          ]
        }
      ]
    },
    {
      "cell_type": "markdown",
      "source": [
        "Step 5 – Standardize Columns"
      ],
      "metadata": {
        "id": "bDsBYpBWPI8w"
      }
    },
    {
      "cell_type": "code",
      "source": [
        "#Rename long or inconsistent columns for easier handling:\n",
        "\n",
        "df.columns = df.columns.str.lower().str.replace(' ', '_')\n",
        "df.head()"
      ],
      "metadata": {
        "colab": {
          "base_uri": "https://localhost:8080/",
          "height": 533
        },
        "id": "otHp64RNPFvn",
        "outputId": "ff597bce-6c1e-4309-9d57-859d1433d5d4"
      },
      "execution_count": 19,
      "outputs": [
        {
          "output_type": "execute_result",
          "data": {
            "text/plain": [
              "  index             order_id       date                        status  \\\n",
              "0   0.0  405-8078784-5731545  4/30/2022                     Cancelled   \n",
              "1   1.0  171-9198151-1101146  4/30/2022  Shipped - Delivered to Buyer   \n",
              "2   2.0  404-0687676-7273146  4/30/2022                       Shipped   \n",
              "3   3.0  403-9615377-8133951  4/30/2022                     Cancelled   \n",
              "4   4.0  407-1069790-7240320  4/30/2022                       Shipped   \n",
              "\n",
              "  fulfilment sales_channel ship-service-level    style              sku  \\\n",
              "0   Merchant     Amazon.in           Standard   SET389   SET389-KR-NP-S   \n",
              "1   Merchant     Amazon.in           Standard  JNE3781  JNE3781-KR-XXXL   \n",
              "2     Amazon     Amazon.in          Expedited  JNE3371    JNE3371-KR-XL   \n",
              "3   Merchant     Amazon.in           Standard    J0341       J0341-DR-L   \n",
              "4     Amazon     Amazon.in          Expedited  JNE3671  JNE3671-TU-XXXL   \n",
              "\n",
              "        category  ... currency  amount    ship-city   ship-state  \\\n",
              "0            Set  ...      INR  647.62       MUMBAI  MAHARASHTRA   \n",
              "1          kurta  ...      INR   406.0    BENGALURU    KARNATAKA   \n",
              "2          kurta  ...      INR   329.0  NAVI MUMBAI  MAHARASHTRA   \n",
              "3  Western Dress  ...      INR  753.33   PUDUCHERRY   PUDUCHERRY   \n",
              "4            Top  ...      INR   574.0      CHENNAI   TAMIL NADU   \n",
              "\n",
              "  ship-postal-code ship-country  \\\n",
              "0         400081.0           IN   \n",
              "1         560085.0           IN   \n",
              "2         410210.0           IN   \n",
              "3         605008.0           IN   \n",
              "4         600073.0           IN   \n",
              "\n",
              "                                       promotion-ids    b2b fulfilled-by  \\\n",
              "0                                            Unknown  False    Easy Ship   \n",
              "1  Amazon PLCC Free-Financing Universal Merchant ...  False    Easy Ship   \n",
              "2       IN Core Free Shipping 2015/04/08 23-48-5-108   True      Unknown   \n",
              "3                                            Unknown  False    Easy Ship   \n",
              "4                                            Unknown  False      Unknown   \n",
              "\n",
              "  unnamed:_22  \n",
              "0     Unknown  \n",
              "1     Unknown  \n",
              "2     Unknown  \n",
              "3     Unknown  \n",
              "4     Unknown  \n",
              "\n",
              "[5 rows x 24 columns]"
            ],
            "text/html": [
              "\n",
              "  <div id=\"df-6fe99a1e-179d-4efe-986b-ff690104d9aa\" class=\"colab-df-container\">\n",
              "    <div>\n",
              "<style scoped>\n",
              "    .dataframe tbody tr th:only-of-type {\n",
              "        vertical-align: middle;\n",
              "    }\n",
              "\n",
              "    .dataframe tbody tr th {\n",
              "        vertical-align: top;\n",
              "    }\n",
              "\n",
              "    .dataframe thead th {\n",
              "        text-align: right;\n",
              "    }\n",
              "</style>\n",
              "<table border=\"1\" class=\"dataframe\">\n",
              "  <thead>\n",
              "    <tr style=\"text-align: right;\">\n",
              "      <th></th>\n",
              "      <th>index</th>\n",
              "      <th>order_id</th>\n",
              "      <th>date</th>\n",
              "      <th>status</th>\n",
              "      <th>fulfilment</th>\n",
              "      <th>sales_channel</th>\n",
              "      <th>ship-service-level</th>\n",
              "      <th>style</th>\n",
              "      <th>sku</th>\n",
              "      <th>category</th>\n",
              "      <th>...</th>\n",
              "      <th>currency</th>\n",
              "      <th>amount</th>\n",
              "      <th>ship-city</th>\n",
              "      <th>ship-state</th>\n",
              "      <th>ship-postal-code</th>\n",
              "      <th>ship-country</th>\n",
              "      <th>promotion-ids</th>\n",
              "      <th>b2b</th>\n",
              "      <th>fulfilled-by</th>\n",
              "      <th>unnamed:_22</th>\n",
              "    </tr>\n",
              "  </thead>\n",
              "  <tbody>\n",
              "    <tr>\n",
              "      <th>0</th>\n",
              "      <td>0.0</td>\n",
              "      <td>405-8078784-5731545</td>\n",
              "      <td>4/30/2022</td>\n",
              "      <td>Cancelled</td>\n",
              "      <td>Merchant</td>\n",
              "      <td>Amazon.in</td>\n",
              "      <td>Standard</td>\n",
              "      <td>SET389</td>\n",
              "      <td>SET389-KR-NP-S</td>\n",
              "      <td>Set</td>\n",
              "      <td>...</td>\n",
              "      <td>INR</td>\n",
              "      <td>647.62</td>\n",
              "      <td>MUMBAI</td>\n",
              "      <td>MAHARASHTRA</td>\n",
              "      <td>400081.0</td>\n",
              "      <td>IN</td>\n",
              "      <td>Unknown</td>\n",
              "      <td>False</td>\n",
              "      <td>Easy Ship</td>\n",
              "      <td>Unknown</td>\n",
              "    </tr>\n",
              "    <tr>\n",
              "      <th>1</th>\n",
              "      <td>1.0</td>\n",
              "      <td>171-9198151-1101146</td>\n",
              "      <td>4/30/2022</td>\n",
              "      <td>Shipped - Delivered to Buyer</td>\n",
              "      <td>Merchant</td>\n",
              "      <td>Amazon.in</td>\n",
              "      <td>Standard</td>\n",
              "      <td>JNE3781</td>\n",
              "      <td>JNE3781-KR-XXXL</td>\n",
              "      <td>kurta</td>\n",
              "      <td>...</td>\n",
              "      <td>INR</td>\n",
              "      <td>406.0</td>\n",
              "      <td>BENGALURU</td>\n",
              "      <td>KARNATAKA</td>\n",
              "      <td>560085.0</td>\n",
              "      <td>IN</td>\n",
              "      <td>Amazon PLCC Free-Financing Universal Merchant ...</td>\n",
              "      <td>False</td>\n",
              "      <td>Easy Ship</td>\n",
              "      <td>Unknown</td>\n",
              "    </tr>\n",
              "    <tr>\n",
              "      <th>2</th>\n",
              "      <td>2.0</td>\n",
              "      <td>404-0687676-7273146</td>\n",
              "      <td>4/30/2022</td>\n",
              "      <td>Shipped</td>\n",
              "      <td>Amazon</td>\n",
              "      <td>Amazon.in</td>\n",
              "      <td>Expedited</td>\n",
              "      <td>JNE3371</td>\n",
              "      <td>JNE3371-KR-XL</td>\n",
              "      <td>kurta</td>\n",
              "      <td>...</td>\n",
              "      <td>INR</td>\n",
              "      <td>329.0</td>\n",
              "      <td>NAVI MUMBAI</td>\n",
              "      <td>MAHARASHTRA</td>\n",
              "      <td>410210.0</td>\n",
              "      <td>IN</td>\n",
              "      <td>IN Core Free Shipping 2015/04/08 23-48-5-108</td>\n",
              "      <td>True</td>\n",
              "      <td>Unknown</td>\n",
              "      <td>Unknown</td>\n",
              "    </tr>\n",
              "    <tr>\n",
              "      <th>3</th>\n",
              "      <td>3.0</td>\n",
              "      <td>403-9615377-8133951</td>\n",
              "      <td>4/30/2022</td>\n",
              "      <td>Cancelled</td>\n",
              "      <td>Merchant</td>\n",
              "      <td>Amazon.in</td>\n",
              "      <td>Standard</td>\n",
              "      <td>J0341</td>\n",
              "      <td>J0341-DR-L</td>\n",
              "      <td>Western Dress</td>\n",
              "      <td>...</td>\n",
              "      <td>INR</td>\n",
              "      <td>753.33</td>\n",
              "      <td>PUDUCHERRY</td>\n",
              "      <td>PUDUCHERRY</td>\n",
              "      <td>605008.0</td>\n",
              "      <td>IN</td>\n",
              "      <td>Unknown</td>\n",
              "      <td>False</td>\n",
              "      <td>Easy Ship</td>\n",
              "      <td>Unknown</td>\n",
              "    </tr>\n",
              "    <tr>\n",
              "      <th>4</th>\n",
              "      <td>4.0</td>\n",
              "      <td>407-1069790-7240320</td>\n",
              "      <td>4/30/2022</td>\n",
              "      <td>Shipped</td>\n",
              "      <td>Amazon</td>\n",
              "      <td>Amazon.in</td>\n",
              "      <td>Expedited</td>\n",
              "      <td>JNE3671</td>\n",
              "      <td>JNE3671-TU-XXXL</td>\n",
              "      <td>Top</td>\n",
              "      <td>...</td>\n",
              "      <td>INR</td>\n",
              "      <td>574.0</td>\n",
              "      <td>CHENNAI</td>\n",
              "      <td>TAMIL NADU</td>\n",
              "      <td>600073.0</td>\n",
              "      <td>IN</td>\n",
              "      <td>Unknown</td>\n",
              "      <td>False</td>\n",
              "      <td>Unknown</td>\n",
              "      <td>Unknown</td>\n",
              "    </tr>\n",
              "  </tbody>\n",
              "</table>\n",
              "<p>5 rows × 24 columns</p>\n",
              "</div>\n",
              "    <div class=\"colab-df-buttons\">\n",
              "\n",
              "  <div class=\"colab-df-container\">\n",
              "    <button class=\"colab-df-convert\" onclick=\"convertToInteractive('df-6fe99a1e-179d-4efe-986b-ff690104d9aa')\"\n",
              "            title=\"Convert this dataframe to an interactive table.\"\n",
              "            style=\"display:none;\">\n",
              "\n",
              "  <svg xmlns=\"http://www.w3.org/2000/svg\" height=\"24px\" viewBox=\"0 -960 960 960\">\n",
              "    <path d=\"M120-120v-720h720v720H120Zm60-500h600v-160H180v160Zm220 220h160v-160H400v160Zm0 220h160v-160H400v160ZM180-400h160v-160H180v160Zm440 0h160v-160H620v160ZM180-180h160v-160H180v160Zm440 0h160v-160H620v160Z\"/>\n",
              "  </svg>\n",
              "    </button>\n",
              "\n",
              "  <style>\n",
              "    .colab-df-container {\n",
              "      display:flex;\n",
              "      gap: 12px;\n",
              "    }\n",
              "\n",
              "    .colab-df-convert {\n",
              "      background-color: #E8F0FE;\n",
              "      border: none;\n",
              "      border-radius: 50%;\n",
              "      cursor: pointer;\n",
              "      display: none;\n",
              "      fill: #1967D2;\n",
              "      height: 32px;\n",
              "      padding: 0 0 0 0;\n",
              "      width: 32px;\n",
              "    }\n",
              "\n",
              "    .colab-df-convert:hover {\n",
              "      background-color: #E2EBFA;\n",
              "      box-shadow: 0px 1px 2px rgba(60, 64, 67, 0.3), 0px 1px 3px 1px rgba(60, 64, 67, 0.15);\n",
              "      fill: #174EA6;\n",
              "    }\n",
              "\n",
              "    .colab-df-buttons div {\n",
              "      margin-bottom: 4px;\n",
              "    }\n",
              "\n",
              "    [theme=dark] .colab-df-convert {\n",
              "      background-color: #3B4455;\n",
              "      fill: #D2E3FC;\n",
              "    }\n",
              "\n",
              "    [theme=dark] .colab-df-convert:hover {\n",
              "      background-color: #434B5C;\n",
              "      box-shadow: 0px 1px 3px 1px rgba(0, 0, 0, 0.15);\n",
              "      filter: drop-shadow(0px 1px 2px rgba(0, 0, 0, 0.3));\n",
              "      fill: #FFFFFF;\n",
              "    }\n",
              "  </style>\n",
              "\n",
              "    <script>\n",
              "      const buttonEl =\n",
              "        document.querySelector('#df-6fe99a1e-179d-4efe-986b-ff690104d9aa button.colab-df-convert');\n",
              "      buttonEl.style.display =\n",
              "        google.colab.kernel.accessAllowed ? 'block' : 'none';\n",
              "\n",
              "      async function convertToInteractive(key) {\n",
              "        const element = document.querySelector('#df-6fe99a1e-179d-4efe-986b-ff690104d9aa');\n",
              "        const dataTable =\n",
              "          await google.colab.kernel.invokeFunction('convertToInteractive',\n",
              "                                                    [key], {});\n",
              "        if (!dataTable) return;\n",
              "\n",
              "        const docLinkHtml = 'Like what you see? Visit the ' +\n",
              "          '<a target=\"_blank\" href=https://colab.research.google.com/notebooks/data_table.ipynb>data table notebook</a>'\n",
              "          + ' to learn more about interactive tables.';\n",
              "        element.innerHTML = '';\n",
              "        dataTable['output_type'] = 'display_data';\n",
              "        await google.colab.output.renderOutput(dataTable, element);\n",
              "        const docLink = document.createElement('div');\n",
              "        docLink.innerHTML = docLinkHtml;\n",
              "        element.appendChild(docLink);\n",
              "      }\n",
              "    </script>\n",
              "  </div>\n",
              "\n",
              "\n",
              "    <div id=\"df-c873bce5-ed6d-4c1c-8b92-7bbab56ff8ba\">\n",
              "      <button class=\"colab-df-quickchart\" onclick=\"quickchart('df-c873bce5-ed6d-4c1c-8b92-7bbab56ff8ba')\"\n",
              "                title=\"Suggest charts\"\n",
              "                style=\"display:none;\">\n",
              "\n",
              "<svg xmlns=\"http://www.w3.org/2000/svg\" height=\"24px\"viewBox=\"0 0 24 24\"\n",
              "     width=\"24px\">\n",
              "    <g>\n",
              "        <path d=\"M19 3H5c-1.1 0-2 .9-2 2v14c0 1.1.9 2 2 2h14c1.1 0 2-.9 2-2V5c0-1.1-.9-2-2-2zM9 17H7v-7h2v7zm4 0h-2V7h2v10zm4 0h-2v-4h2v4z\"/>\n",
              "    </g>\n",
              "</svg>\n",
              "      </button>\n",
              "\n",
              "<style>\n",
              "  .colab-df-quickchart {\n",
              "      --bg-color: #E8F0FE;\n",
              "      --fill-color: #1967D2;\n",
              "      --hover-bg-color: #E2EBFA;\n",
              "      --hover-fill-color: #174EA6;\n",
              "      --disabled-fill-color: #AAA;\n",
              "      --disabled-bg-color: #DDD;\n",
              "  }\n",
              "\n",
              "  [theme=dark] .colab-df-quickchart {\n",
              "      --bg-color: #3B4455;\n",
              "      --fill-color: #D2E3FC;\n",
              "      --hover-bg-color: #434B5C;\n",
              "      --hover-fill-color: #FFFFFF;\n",
              "      --disabled-bg-color: #3B4455;\n",
              "      --disabled-fill-color: #666;\n",
              "  }\n",
              "\n",
              "  .colab-df-quickchart {\n",
              "    background-color: var(--bg-color);\n",
              "    border: none;\n",
              "    border-radius: 50%;\n",
              "    cursor: pointer;\n",
              "    display: none;\n",
              "    fill: var(--fill-color);\n",
              "    height: 32px;\n",
              "    padding: 0;\n",
              "    width: 32px;\n",
              "  }\n",
              "\n",
              "  .colab-df-quickchart:hover {\n",
              "    background-color: var(--hover-bg-color);\n",
              "    box-shadow: 0 1px 2px rgba(60, 64, 67, 0.3), 0 1px 3px 1px rgba(60, 64, 67, 0.15);\n",
              "    fill: var(--button-hover-fill-color);\n",
              "  }\n",
              "\n",
              "  .colab-df-quickchart-complete:disabled,\n",
              "  .colab-df-quickchart-complete:disabled:hover {\n",
              "    background-color: var(--disabled-bg-color);\n",
              "    fill: var(--disabled-fill-color);\n",
              "    box-shadow: none;\n",
              "  }\n",
              "\n",
              "  .colab-df-spinner {\n",
              "    border: 2px solid var(--fill-color);\n",
              "    border-color: transparent;\n",
              "    border-bottom-color: var(--fill-color);\n",
              "    animation:\n",
              "      spin 1s steps(1) infinite;\n",
              "  }\n",
              "\n",
              "  @keyframes spin {\n",
              "    0% {\n",
              "      border-color: transparent;\n",
              "      border-bottom-color: var(--fill-color);\n",
              "      border-left-color: var(--fill-color);\n",
              "    }\n",
              "    20% {\n",
              "      border-color: transparent;\n",
              "      border-left-color: var(--fill-color);\n",
              "      border-top-color: var(--fill-color);\n",
              "    }\n",
              "    30% {\n",
              "      border-color: transparent;\n",
              "      border-left-color: var(--fill-color);\n",
              "      border-top-color: var(--fill-color);\n",
              "      border-right-color: var(--fill-color);\n",
              "    }\n",
              "    40% {\n",
              "      border-color: transparent;\n",
              "      border-right-color: var(--fill-color);\n",
              "      border-top-color: var(--fill-color);\n",
              "    }\n",
              "    60% {\n",
              "      border-color: transparent;\n",
              "      border-right-color: var(--fill-color);\n",
              "    }\n",
              "    80% {\n",
              "      border-color: transparent;\n",
              "      border-right-color: var(--fill-color);\n",
              "      border-bottom-color: var(--fill-color);\n",
              "    }\n",
              "    90% {\n",
              "      border-color: transparent;\n",
              "      border-bottom-color: var(--fill-color);\n",
              "    }\n",
              "  }\n",
              "</style>\n",
              "\n",
              "      <script>\n",
              "        async function quickchart(key) {\n",
              "          const quickchartButtonEl =\n",
              "            document.querySelector('#' + key + ' button');\n",
              "          quickchartButtonEl.disabled = true;  // To prevent multiple clicks.\n",
              "          quickchartButtonEl.classList.add('colab-df-spinner');\n",
              "          try {\n",
              "            const charts = await google.colab.kernel.invokeFunction(\n",
              "                'suggestCharts', [key], {});\n",
              "          } catch (error) {\n",
              "            console.error('Error during call to suggestCharts:', error);\n",
              "          }\n",
              "          quickchartButtonEl.classList.remove('colab-df-spinner');\n",
              "          quickchartButtonEl.classList.add('colab-df-quickchart-complete');\n",
              "        }\n",
              "        (() => {\n",
              "          let quickchartButtonEl =\n",
              "            document.querySelector('#df-c873bce5-ed6d-4c1c-8b92-7bbab56ff8ba button');\n",
              "          quickchartButtonEl.style.display =\n",
              "            google.colab.kernel.accessAllowed ? 'block' : 'none';\n",
              "        })();\n",
              "      </script>\n",
              "    </div>\n",
              "\n",
              "    </div>\n",
              "  </div>\n"
            ],
            "application/vnd.google.colaboratory.intrinsic+json": {
              "type": "dataframe",
              "variable_name": "df"
            }
          },
          "metadata": {},
          "execution_count": 19
        }
      ]
    },
    {
      "cell_type": "markdown",
      "source": [
        "Step 6 – Univariate Analysis (Single Column Insights)"
      ],
      "metadata": {
        "id": "Y3KwDFFzPWDu"
      }
    },
    {
      "cell_type": "code",
      "source": [
        "# Order status distribution\n",
        "sns.countplot(y='status', data=df)\n",
        "plt.title('Distribution of Order Status')\n",
        "plt.show()\n",
        "\n",
        "# Top 10 product categories\n",
        "df['category'].value_counts().head(10).plot(kind='barh', color='skyblue')\n",
        "plt.title('Top 10 Product Categories')\n",
        "plt.show()"
      ],
      "metadata": {
        "colab": {
          "base_uri": "https://localhost:8080/",
          "height": 920
        },
        "id": "L7vw5MVDPMqC",
        "outputId": "8e269fe6-001e-43f3-99b4-3712d2dd2f04"
      },
      "execution_count": 31,
      "outputs": [
        {
          "output_type": "display_data",
          "data": {
            "text/plain": [
              "<Figure size 640x480 with 1 Axes>"
            ],
            "image/png": "[encoded data removed]"
          },
          "metadata": {}
        },
        {
          "output_type": "display_data",
          "data": {
            "text/plain": [
              "<Figure size 640x480 with 1 Axes>"
            ],
            "image/png": "[encoded data removed]"
          },
          "metadata": {}
        }
      ]
    },
    {
      "cell_type": "markdown",
      "source": [
        "Step 7 – Numerical Analysis"
      ],
      "metadata": {
        "id": "fGFLlpjJQBJi"
      }
    },
    {
      "cell_type": "code",
      "source": [
        "df['amount'] = pd.to_numeric(df['amount'], errors='coerce')\n",
        "#This converts all non-numeric values (like \"Unknown\") to NaN, so Seaborn can plot correctly."
      ],
      "metadata": {
        "id": "DIadYaUHQaVd"
      },
      "execution_count": 29,
      "outputs": []
    },
    {
      "cell_type": "code",
      "source": [
        "sns.histplot(df['amount'], bins=30, kde=True)\n",
        "plt.title('Distribution of Order Amount')\n",
        "plt.show()\n",
        "\n",
        "sns.boxplot(x=df['amount'])\n",
        "plt.title('Amount Outliers')\n",
        "plt.show()"
      ],
      "metadata": {
        "colab": {
          "base_uri": "https://localhost:8080/",
          "height": 943
        },
        "id": "mOeu0JEPPYDl",
        "outputId": "a7814535-f89c-4b7c-cf0c-4db2b6df1863"
      },
      "execution_count": 32,
      "outputs": [
        {
          "output_type": "display_data",
          "data": {
            "text/plain": [
              "<Figure size 640x480 with 1 Axes>"
            ],
            "image/png": "[encoded data removed]"
          },
          "metadata": {}
        },
        {
          "output_type": "display_data",
          "data": {
            "text/plain": [
              "<Figure size 640x480 with 1 Axes>"
            ],
            "image/png": "[encoded data removed]"
          },
          "metadata": {}
        }
      ]
    },
    {
      "cell_type": "markdown",
      "source": [
        "Step 8 – Correlation and Relationships"
      ],
      "metadata": {
        "id": "_Lrz0qa_QkqS"
      }
    },
    {
      "cell_type": "code",
      "source": [
        "numeric_df = df.select_dtypes(include=[np.number])\n",
        "sns.heatmap(numeric_df.corr(), annot=True, cmap='coolwarm')\n",
        "plt.title('Correlation Heatmap')\n",
        "plt.show()"
      ],
      "metadata": {
        "colab": {
          "base_uri": "https://localhost:8080/",
          "height": 457
        },
        "id": "ZHjc4SM_QDDV",
        "outputId": "9bdeaf7f-8928-4237-e10a-38f4e98166d5"
      },
      "execution_count": 33,
      "outputs": [
        {
          "output_type": "display_data",
          "data": {
            "text/plain": [
              "<Figure size 640x480 with 2 Axes>"
            ],
            "image/png": "[encoded data removed]"
          },
          "metadata": {}
        }
      ]
    },
    {
      "cell_type": "markdown",
      "source": [
        "Step 9 – Time-Based Trends"
      ],
      "metadata": {
        "id": "ZchjyNetQyku"
      }
    },
    {
      "cell_type": "code",
      "source": [
        "df['date'] = pd.to_datetime(df['date'], errors='coerce')\n",
        "df['month'] = df['date'].dt.month\n",
        "\n",
        "monthly_sales = df.groupby('month')['amount'].sum()\n",
        "monthly_sales.plot(kind='bar', color='violet')\n",
        "plt.title('Monthly Sales Trend')\n",
        "plt.show()"
      ],
      "metadata": {
        "colab": {
          "base_uri": "https://localhost:8080/",
          "height": 489
        },
        "id": "Pu0YKw5rQ0aU",
        "outputId": "4a7dce64-0deb-4bc2-f686-f2032d305d55"
      },
      "execution_count": 40,
      "outputs": [
        {
          "output_type": "display_data",
          "data": {
            "text/plain": [
              "<Figure size 640x480 with 1 Axes>"
            ],
            "image/png": "[encoded data removed]"
          },
          "metadata": {}
        }
      ]
    },
    {
      "cell_type": "markdown",
      "metadata": {
        "id": "237635cf"
      },
      "source": [
        "Step 10 – Fulfillment"
      ]
    },
    {
      "cell_type": "code",
      "metadata": {
        "colab": {
          "base_uri": "https://localhost:8080/",
          "height": 943
        },
        "id": "91da172b",
        "outputId": "aad1cc5e-c430-4fbb-e2f5-756c55cf3548"
      },
      "source": [
        "# Distribution of orders by Fulfillment type\n",
        "sns.countplot(x='fulfilment', data=df)\n",
        "plt.title('Distribution of Orders by Fulfillment Type')\n",
        "plt.show()\n",
        "\n",
        "# Relationship between Amount and Fulfillment\n",
        "sns.boxplot(x='fulfilment', y='amount', data=df)\n",
        "plt.title('Relationship between Amount and Fulfillment')\n",
        "plt.show()"
      ],
      "execution_count": 41,
      "outputs": [
        {
          "output_type": "display_data",
          "data": {
            "text/plain": [
              "<Figure size 640x480 with 1 Axes>"
            ],
            "image/png": "[encoded data removed]"
          },
          "metadata": {}
        },
        {
          "output_type": "display_data",
          "data": {
            "text/plain": [
              "<Figure size 640x480 with 1 Axes>"
            ],
            "image/png": "[encoded data removed]"
          },
          "metadata": {}
        }
      ]
    },
    {
      "cell_type": "markdown",
      "source": [
        "Step 11 – Save Cleaned Data"
      ],
      "metadata": {
        "id": "i_zLgh0cSi0g"
      }
    },
    {
      "cell_type": "code",
      "source": [
        "df.to_csv('Amazon_Sales_Cleaned.csv', index=False)"
      ],
      "metadata": {
        "id": "471ZWtZhSfI3"
      },
      "execution_count": 42,
      "outputs": []
    }
  ],
  "metadata": {
    "colab": {
      "name": "Welcome To Colab",
      "provenance": []
    },
    "kernelspec": {
      "display_name": "Python 3",
      "name": "python3"
    }
  },
  "nbformat": 4,
  "nbformat_minor": 0
}
